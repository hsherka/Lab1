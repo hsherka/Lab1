{
 "cells": [
  {
   "cell_type": "markdown",
   "metadata": {},
   "source": [
    "### Hanan Sherka \n",
    "### Statistical Analysis of Wages for City of Seattle\n",
    "### 08.30.2018"
   ]
  },
  {
   "cell_type": "markdown",
   "metadata": {},
   "source": [
    "## Abstract\n"
   ]
  },
  {
   "cell_type": "markdown",
   "metadata": {},
   "source": [
    "In this lab, we took City of Seattle's data on the houlry wages of all its' employees, and found the minimum and maximum hourly wages, and the average. We also looked at who the people with the min and max hourly wages, and the department they worked in/ "
   ]
  },
  {
   "cell_type": "markdown",
   "metadata": {},
   "source": [
    "## Dataset Preparation "
   ]
  },
  {
   "cell_type": "markdown",
   "metadata": {},
   "source": [
    "I opened the data file of Seattle Wage Data and put it into the empty list called wage data "
   ]
  },
  {
   "cell_type": "code",
   "execution_count": 12,
   "metadata": {},
   "outputs": [],
   "source": [
    "#open the data file\n",
    "wage_file = open(\"Simplified_City_of_Seattle_Wage_Data.csv\", \"r\")\n",
    "#Make it an empty list \n",
    "wage_data = []\n",
    "#Going through every line of data and putting it into the list\n",
    "for line in wage_file:\n",
    "    wage_data.append(line);\n",
    "#close file\n",
    "wage_file.close();"
   ]
  },
  {
   "cell_type": "markdown",
   "metadata": {},
   "source": [
    "I removed the header columns and split the wage data into two lists, one is the hourly rate and the other is the employee information "
   ]
  },
  {
   "cell_type": "code",
   "execution_count": 13,
   "metadata": {},
   "outputs": [
    {
     "name": "stdout",
     "output_type": "stream",
     "text": [
      "[53.79, 51.574, 54.84, 25.54]\n",
      "['Employee: Leslie Kennedy  Job Title: StratAdvsr2 General Govt  Department: Finance & Admin Services Dept\\n', 'Employee: Christina Johnson  Job Title: StratAdvsr2 General Govt  Department: Finance & Admin Services Dept\\n', 'Employee: Michael Johnson  Job Title: StratAdvsr2 General Govt  Department: Finance & Admin Services Dept\\n', 'Employee: Michael Mustello  Job Title: Cust Svc Rep  Department: Finance & Admin Services Dept\\n']\n"
     ]
    }
   ],
   "source": [
    "#taking away the column headers \n",
    "del wage_data[0]; \n",
    "\n",
    "#Make empty lists for the hourly rate and the employee information \n",
    "hourly_rate = []\n",
    "employee_info = [] \n",
    "\n",
    "#Going thorugh every line of the list and split the data at the comma \n",
    "for row in range(len(wage_data)): \n",
    "    column = wage_data[row].split(\",\")\n",
    "    \n",
    "    hourly_rate.append(float(column[0]))\n",
    "    employee_info.append(column[1])\n",
    "#Test to veryify that it would print the first four values in the list\n",
    "print(hourly_rate[:4])\n",
    "print(employee_info[:4]) \n",
    "\n"
   ]
  },
  {
   "cell_type": "markdown",
   "metadata": {},
   "source": [
    "## Data Modeling"
   ]
  },
  {
   "cell_type": "markdown",
   "metadata": {},
   "source": [
    "I used the min and max function to find who makes the least and who makes the most money.  "
   ]
  },
  {
   "cell_type": "code",
   "execution_count": 14,
   "metadata": {},
   "outputs": [
    {
     "name": "stdout",
     "output_type": "stream",
     "text": [
      "5.53\n",
      "137.788\n"
     ]
    }
   ],
   "source": [
    "#Used the min and max function to find the smallest hourly rates and the lowest hourly rates\n",
    "minwage = min(hourly_rate)\n",
    "maxwage = max(hourly_rate)\n",
    "\n",
    "print(minwage)\n",
    "print(maxwage)"
   ]
  },
  {
   "cell_type": "code",
   "execution_count": 15,
   "metadata": {},
   "outputs": [
    {
     "name": "stdout",
     "output_type": "stream",
     "text": [
      "Employee: Amy Bonfrisco  Job Title: Civil Svc Commissioner  Department: Civil Service Commissions Dept\n",
      "\n",
      "Employee: Mami Hara  Job Title: SPU General Mgr&CEO  Department: Seattle Public Utilities\n",
      "\n"
     ]
    }
   ],
   "source": [
    "#because the min and max function only found the hourly rates and not the information that goes along with that rate\n",
    "#(like how much that person makes), I had to find the index of the hourly rates so I could find which employee\n",
    "#that corresponds to \n",
    "\n",
    "minindex =  hourly_rate.index(minwage)\n",
    "maxindex = hourly_rate.index(maxwage)\n",
    "\n",
    "print(employee_info[minindex])\n",
    "print(employee_info[maxindex])"
   ]
  },
  {
   "cell_type": "markdown",
   "metadata": {},
   "source": [
    "I found the average hourly rate. "
   ]
  },
  {
   "cell_type": "code",
   "execution_count": 16,
   "metadata": {},
   "outputs": [
    {
     "name": "stdout",
     "output_type": "stream",
     "text": [
      "39.58501973094151\n"
     ]
    }
   ],
   "source": [
    "#I divided the sum of all hourly rates by the length of the hourly rate list (aka the number of values in that list) \n",
    "#to find the average hourly rate\n",
    "avgwage = sum(hourly_rate)/len(hourly_rate)\n",
    "print(avgwage)"
   ]
  },
  {
   "cell_type": "markdown",
   "metadata": {},
   "source": [
    "## Data Analysis and Conclusion "
   ]
  },
  {
   "cell_type": "markdown",
   "metadata": {},
   "source": [
    "I found that the City of Seattle employee that makes the most money is Mami Hara, who is the general manager and CEO of Seattle Public Utilities and is paid $137.79 an hour. The employee that makes the least amount of money is Amy Bonfrisco, who works as a Civil Service Comissioner and is paid only $5.53 an hour.I also found that the everage hourly rate is approximately $39.59. This leads me to wonder how someone is paid almost $10 less than Seattle's minimum wage. It also leads me to question what specific factors may influence how much an employee is paid specifically for City of Seattle (ex. how much experience, education, past success in that job, etc.). These are all things up for further exploration in the future.  "
   ]
  },
  {
   "cell_type": "markdown",
   "metadata": {},
   "source": [
    "## Acknowledgements"
   ]
  },
  {
   "cell_type": "markdown",
   "metadata": {},
   "source": [
    "I would like to acknowledge Ms. Sconyers for in class support on specific questions I had, and the More-Python-Practice document she made to copy code from, specifically on the minimum and maximum functions, and the dataset preparation. "
   ]
  }
 ],
 "metadata": {
  "kernelspec": {
   "display_name": "Python 3",
   "language": "python",
   "name": "python3"
  },
  "language_info": {
   "codemirror_mode": {
    "name": "ipython",
    "version": 3
   },
   "file_extension": ".py",
   "mimetype": "text/x-python",
   "name": "python",
   "nbconvert_exporter": "python",
   "pygments_lexer": "ipython3",
   "version": "3.6.5"
  }
 },
 "nbformat": 4,
 "nbformat_minor": 2
}
